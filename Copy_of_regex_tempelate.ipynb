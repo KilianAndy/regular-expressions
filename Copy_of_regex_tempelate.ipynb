{
  "nbformat": 4,
  "nbformat_minor": 0,
  "metadata": {
    "colab": {
      "name": "Copy of regex-tempelate.ipynb",
      "provenance": [],
      "collapsed_sections": []
    },
    "kernelspec": {
      "name": "python3",
      "display_name": "Python 3"
    },
    "language_info": {
      "name": "python"
    }
  },
  "cells": [
    {
      "cell_type": "markdown",
      "metadata": {
        "id": "5bnZf9NIWQx6"
      },
      "source": [
        "\n",
        "## Regular expressions\n",
        "In this notebook we'll be demonstrating some regex examples to give you an intuition of how to use it."
      ]
    },
    {
      "cell_type": "code",
      "source": [
        "import re"
      ],
      "metadata": {
        "id": "O9QweDhfY5Se"
      },
      "execution_count": null,
      "outputs": []
    },
    {
      "cell_type": "code",
      "source": [
        "text = 'This is just a string, isn\\'t it?'\n",
        "p = r'is'\n",
        "res = re.findall(p, text)\n",
        "print(res)"
      ],
      "metadata": {
        "colab": {
          "base_uri": "https://localhost:8080/"
        },
        "id": "eV26E3CxYqOu",
        "outputId": "e8ed687c-08da-43a6-a7a4-28b793ac9b73"
      },
      "execution_count": null,
      "outputs": [
        {
          "output_type": "stream",
          "name": "stdout",
          "text": [
            "['is', 'is', 'is']\n"
          ]
        }
      ]
    },
    {
      "cell_type": "code",
      "source": [
        ""
      ],
      "metadata": {
        "id": "6WZhUDbIYrP9"
      },
      "execution_count": null,
      "outputs": []
    },
    {
      "cell_type": "markdown",
      "metadata": {
        "id": "BQC83G9zWQyN"
      },
      "source": [
        "Match text containing abc"
      ]
    },
    {
      "cell_type": "code",
      "execution_count": null,
      "metadata": {
        "id": "7kotWR9aWQyP",
        "outputId": "52e87693-c858-4f8a-c8df-f167274bfffb",
        "colab": {
          "base_uri": "https://localhost:8080/"
        }
      },
      "outputs": [
        {
          "output_type": "stream",
          "name": "stdout",
          "text": [
            "[['abcdefg'], ['abcde'], ['abc'], []]\n"
          ]
        }
      ],
      "source": [
        "text = ['abcdefg',\n",
        "       'abcde',\n",
        "       'abc',\n",
        "       'xyz']\n",
        "p = r'abc.*'\n",
        "results = []\n",
        "for t in text:\n",
        "    results.append(re.findall(p, t))\n",
        "print(results)"
      ]
    },
    {
      "cell_type": "markdown",
      "metadata": {
        "id": "Kw6dbTsfWQyR"
      },
      "source": [
        "Match text containing digits"
      ]
    },
    {
      "cell_type": "code",
      "execution_count": null,
      "metadata": {
        "id": "etej2OKFWQyS",
        "outputId": "4a933d2e-346b-463c-8133-b764f5593990",
        "colab": {
          "base_uri": "https://localhost:8080/"
        }
      },
      "outputs": [
        {
          "output_type": "stream",
          "name": "stdout",
          "text": [
            "[['abc123xyz'], ['zipcode \"114632\"'], ['x = 9'], []]\n"
          ]
        }
      ],
      "source": [
        "text = ['abc123xyz',\n",
        "       'zipcode \"114632\"',\n",
        "       'x = 9',\n",
        "       'xyz']\n",
        "p = r'.*[\\d]+.*'\n",
        "results = []\n",
        "for t in text:\n",
        "    results.append(re.findall(p, t))\n",
        "print(results)"
      ]
    },
    {
      "cell_type": "markdown",
      "metadata": {
        "id": "JfiWAYOeWQyU"
      },
      "source": [
        "Match text only ending with a period."
      ]
    },
    {
      "cell_type": "code",
      "execution_count": null,
      "metadata": {
        "id": "DWeg_TOSWQyV",
        "outputId": "6239928d-186d-47b3-9e0b-c0cea15b3e0a",
        "colab": {
          "base_uri": "https://localhost:8080/"
        }
      },
      "outputs": [
        {
          "output_type": "stream",
          "name": "stdout",
          "text": [
            "[['abc.'], ['654.'], ['@#$.'], []]\n"
          ]
        }
      ],
      "source": [
        "text = ['abc.',\n",
        "       '654.',\n",
        "       '@#$.',\n",
        "       'xyz!']\n",
        "p = r'.*\\.'\n",
        "results = []\n",
        "for t in text:\n",
        "    results.append(re.findall(p, t))\n",
        "print(results)"
      ]
    },
    {
      "cell_type": "markdown",
      "metadata": {
        "id": "IwzfXTXMWQyY"
      },
      "source": [
        "Match the first three only."
      ]
    },
    {
      "cell_type": "code",
      "execution_count": null,
      "metadata": {
        "id": "N9g2VdyiWQyZ",
        "outputId": "3b422b0e-40ac-4ba1-c36f-e9c3ba8dd0f8",
        "colab": {
          "base_uri": "https://localhost:8080/"
        }
      },
      "outputs": [
        {
          "output_type": "stream",
          "name": "stdout",
          "text": [
            "[['cat'], ['rat'], ['fat'], [], [], []]\n"
          ]
        }
      ],
      "source": [
        "text = ['cat',\n",
        "       'rat',\n",
        "       'fat',\n",
        "       'hat',\n",
        "       'lat',\n",
        "       'mat']\n",
        "p = r'[crf]at'\n",
        "results = []\n",
        "for t in text:\n",
        "    results.append(re.findall(p, t))\n",
        "print(results)"
      ]
    },
    {
      "cell_type": "markdown",
      "metadata": {
        "id": "nKJZqjQxWQya"
      },
      "source": [
        "No rats!"
      ]
    },
    {
      "cell_type": "code",
      "execution_count": null,
      "metadata": {
        "id": "d3d7COagWQyb",
        "outputId": "ffbeec7b-257d-49f1-b728-ba18ee3bd9ad",
        "colab": {
          "base_uri": "https://localhost:8080/"
        }
      },
      "outputs": [
        {
          "output_type": "stream",
          "name": "stdout",
          "text": [
            "[['cat'], [], ['fat'], ['hat'], ['lat'], ['mat']]\n"
          ]
        }
      ],
      "source": [
        "text = ['cat',\n",
        "       'rat',\n",
        "       'fat',\n",
        "       'hat',\n",
        "       'lat',\n",
        "       'mat']\n",
        "p = r'[^r]at'\n",
        "results = []\n",
        "for t in text:\n",
        "    results.append(re.findall(p, t))\n",
        "print(results)"
      ]
    },
    {
      "cell_type": "markdown",
      "metadata": {
        "id": "aZD5Ssl_WQyb"
      },
      "source": [
        "Match names only, assuming that they start with a capital letter."
      ]
    },
    {
      "cell_type": "code",
      "execution_count": null,
      "metadata": {
        "id": "wKD5pLt-WQyc",
        "outputId": "06743128-eeba-40f5-807d-7a2786c7931a",
        "colab": {
          "base_uri": "https://localhost:8080/"
        }
      },
      "outputs": [
        {
          "output_type": "stream",
          "name": "stdout",
          "text": [
            "[['Muhammed'], ['Ziyad'], ['Sara'], [], []]\n"
          ]
        }
      ],
      "source": [
        "text = ['Muhammed',\n",
        "       'Ziyad',\n",
        "       'Sara',\n",
        "       'cmd',\n",
        "       'folder']\n",
        "p = r'[A-Z].*'\n",
        "results = []\n",
        "for t in text:\n",
        "    results.append(re.findall(p, t))\n",
        "print(results)"
      ]
    },
    {
      "cell_type": "markdown",
      "metadata": {
        "id": "IlAnstj2WQyd"
      },
      "source": [
        "Dealing with repetitions, match 'hello' that containted 3 to 5 l letters"
      ]
    },
    {
      "cell_type": "code",
      "execution_count": null,
      "metadata": {
        "id": "biOBO361WQyd",
        "outputId": "d7f3a074-c684-4a37-aaca-f460836543b4",
        "colab": {
          "base_uri": "https://localhost:8080/"
        }
      },
      "outputs": [
        {
          "output_type": "stream",
          "name": "stdout",
          "text": [
            "[[], [], ['helllo'], ['helllllo'], []]\n"
          ]
        }
      ],
      "source": [
        "text = ['helo',\n",
        "       'hello',\n",
        "       'helllo',\n",
        "       'helllllo',\n",
        "       'hellllllo']\n",
        "p = r'hel{3,5}o'\n",
        "results = []\n",
        "for t in text:\n",
        "    results.append(re.findall(p, t))\n",
        "print(results)"
      ]
    },
    {
      "cell_type": "markdown",
      "metadata": {
        "id": "FqbB7qbUWQye"
      },
      "source": [
        "Match first three only"
      ]
    },
    {
      "cell_type": "code",
      "execution_count": null,
      "metadata": {
        "id": "pIIxFodWWQye",
        "outputId": "914d0af1-94a8-4a3d-d79d-14c4a6f5c4ec",
        "colab": {
          "base_uri": "https://localhost:8080/"
        }
      },
      "outputs": [
        {
          "output_type": "stream",
          "name": "stdout",
          "text": [
            "[['996677'], ['9777'], ['99966667777'], []]\n"
          ]
        }
      ],
      "source": [
        "text = ['996677',\n",
        "       '9777',\n",
        "       '99966667777',\n",
        "       '9']\n",
        "p = r'9+6*7+'\n",
        "results = []\n",
        "for t in text:\n",
        "    results.append(re.findall(p, t))\n",
        "print(results)"
      ]
    },
    {
      "cell_type": "markdown",
      "metadata": {
        "id": "O7Hr5uI1WQyf"
      },
      "source": [
        "Match text where patterns are found"
      ]
    },
    {
      "cell_type": "code",
      "execution_count": null,
      "metadata": {
        "id": "fiGM1W-oWQyg",
        "outputId": "8df4eb2a-4432-4dd1-dc41-58dc3fd4a46e",
        "colab": {
          "base_uri": "https://localhost:8080/"
        }
      },
      "outputs": [
        {
          "output_type": "stream",
          "name": "stdout",
          "text": [
            "[['1 pattern found.'], ['2 patterns found.'], ['24 patterns found'], []]\n"
          ]
        }
      ],
      "source": [
        "text = ['1 pattern found.',\n",
        "       '2 patterns found.',\n",
        "       '24 patterns found',\n",
        "       'No patterns found']\n",
        "p = r'\\d+.*'\n",
        "results = []\n",
        "for t in text:\n",
        "    results.append(re.findall(p, t))\n",
        "print(results)"
      ]
    },
    {
      "cell_type": "markdown",
      "metadata": {
        "id": "O9w5qdXFWQyg"
      },
      "source": [
        "Match lines containing white space."
      ]
    },
    {
      "cell_type": "code",
      "execution_count": null,
      "metadata": {
        "id": "_CZPkzzDWQyh",
        "outputId": "b469242c-416c-4a9c-b928-226840264d2c",
        "colab": {
          "base_uri": "https://localhost:8080/"
        }
      },
      "outputs": [
        {
          "output_type": "stream",
          "name": "stdout",
          "text": [
            "[['1- 123'], ['2-     123'], ['3-                123'], []]\n"
          ]
        }
      ],
      "source": [
        "text = ['1- 123',\n",
        "       '2-     123',\n",
        "       '3-                123',\n",
        "       '4-123']\n",
        "p = r'\\d-\\s+123'\n",
        "results = []\n",
        "for t in text:\n",
        "    results.append(re.findall(p, t))\n",
        "print(results)"
      ]
    },
    {
      "cell_type": "markdown",
      "metadata": {
        "id": "IBFFSiCcWQyh"
      },
      "source": [
        "Match lines having 'Udacity' at the start only"
      ]
    },
    {
      "cell_type": "code",
      "execution_count": null,
      "metadata": {
        "id": "gHZb8mSKWQyi",
        "outputId": "dece1598-c040-4514-828a-41e7c9185ba4",
        "colab": {
          "base_uri": "https://localhost:8080/"
        }
      },
      "outputs": [
        {
          "output_type": "stream",
          "name": "stdout",
          "text": [
            "[['Udacity'], [], []]\n"
          ]
        }
      ],
      "source": [
        "text = ['Udacity',\n",
        "       'Welcome to Udacity',\n",
        "       'The Udacity Advantage']\n",
        "p = r'^Udacity.*'\n",
        "results = []\n",
        "for t in text:\n",
        "    results.append(re.findall(p, t))\n",
        "print(results)"
      ]
    },
    {
      "cell_type": "markdown",
      "metadata": {
        "id": "HQS9Too5WQyi"
      },
      "source": [
        "Match file names that start with 'IMG', has jpg as their extension while capturing only file name "
      ]
    },
    {
      "cell_type": "code",
      "execution_count": null,
      "metadata": {
        "id": "wpgMN6VsWQyi",
        "outputId": "f8a72052-8332-4d63-d0e9-14fb1a24a376",
        "colab": {
          "base_uri": "https://localhost:8080/"
        }
      },
      "outputs": [
        {
          "output_type": "stream",
          "name": "stdout",
          "text": [
            "[['IMG_12072015.jpg'], ['IMG_testfile.jpg'], [], [], []]\n"
          ]
        }
      ],
      "source": [
        "text = ['IMG_12072015.jpg',\n",
        "       'IMG_testfile.jpg',\n",
        "       'image_file.jpg',\n",
        "       'IMG_file.jpg.zip',\n",
        "       'temp_IMG_654.jpg']\n",
        "p = r'^IMG\\w+\\.jpg$'\n",
        "results = []\n",
        "for t in text:\n",
        "    results.append(re.findall(p, t))\n",
        "print(results)"
      ]
    },
    {
      "cell_type": "markdown",
      "metadata": {
        "id": "mRDHNUgnWQyj"
      },
      "source": [
        "Match file names starting with 'IMG', has an image number, with jpg as their extension.\n",
        "\n",
        "Capture both the file name and the image number"
      ]
    },
    {
      "cell_type": "code",
      "execution_count": null,
      "metadata": {
        "id": "5TUIhvqDWQyj",
        "outputId": "bba2de3e-602e-466f-e632-014a60226bc8",
        "colab": {
          "base_uri": "https://localhost:8080/"
        }
      },
      "outputs": [
        {
          "output_type": "stream",
          "name": "stdout",
          "text": [
            "[[('IMG_12072015.jpg', '12072015')], [], [], [], []]\n"
          ]
        }
      ],
      "source": [
        "text = ['IMG_12072015.jpg',\n",
        "       'IMG_testfile.jpg',\n",
        "       'image_file.jpg',\n",
        "       'IMG_file.jpg.zip',\n",
        "       'temp_IMG_654.jpg']\n",
        "p = r'^(IMG_(\\d+)\\.jpg)'\n",
        "results = []\n",
        "for t in text:\n",
        "    results.append(re.findall(p, t))\n",
        "print(results)"
      ]
    },
    {
      "cell_type": "markdown",
      "metadata": {
        "id": "jpiZP5RrWQyj"
      },
      "source": [
        "Match first two lines only, extracting the item liked as well."
      ]
    },
    {
      "cell_type": "code",
      "execution_count": null,
      "metadata": {
        "id": "UxAZsEmxWQyk",
        "outputId": "178223ed-7b44-494e-8a06-88d9b7b14b7e",
        "colab": {
          "base_uri": "https://localhost:8080/"
        }
      },
      "outputs": [
        {
          "output_type": "stream",
          "name": "stdout",
          "text": [
            "[[('I like pizza', 'pizza')], [('I like pasta', 'pasta')], [], []]\n"
          ]
        }
      ],
      "source": [
        "text = ['I like pizza',\n",
        "       'I like pasta',\n",
        "       'I like steaks',\n",
        "       'i don\\'t like pizza']\n",
        "p = r'^(I like (p.*))'\n",
        "results = []\n",
        "for t in text:\n",
        "    results.append(re.findall(p, t))\n",
        "print(results)"
      ]
    },
    {
      "cell_type": "markdown",
      "metadata": {
        "id": "3grwj2WJWQyk"
      },
      "source": [
        "The resolutions are typed with hight and width reversed, fix them.\n",
        "\n",
        "You can use re.sub to replace matching text"
      ]
    },
    {
      "cell_type": "code",
      "execution_count": null,
      "metadata": {
        "id": "u7iZPHcSWQyk",
        "outputId": "90b25dd3-4645-48e8-904c-4d94b99f19ab",
        "colab": {
          "base_uri": "https://localhost:8080/"
        }
      },
      "outputs": [
        {
          "output_type": "stream",
          "name": "stdout",
          "text": [
            "800x600\n",
            "1024x768\n",
            "1280x1024\n"
          ]
        }
      ],
      "source": [
        "texts = ['600x800',\n",
        "       '768x1024',\n",
        "       '1024x1280']\n",
        "p = r'(\\d+)x(\\d+)'\n",
        "\n",
        "for text in texts:\n",
        "    result = re.sub(p, r'\\2x\\1', text); # 2 and 1 are the reference of the 1st (\\d+) and 2nd (\\d+)\n",
        "    print (result)"
      ]
    },
    {
      "cell_type": "code",
      "execution_count": null,
      "metadata": {
        "collapsed": true,
        "id": "V7NTv9sFWQyl"
      },
      "outputs": [],
      "source": [
        ""
      ]
    }
  ]
}